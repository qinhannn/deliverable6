{
 "cells": [
  {
   "cell_type": "code",
   "execution_count": 1,
   "id": "ee1cece7",
   "metadata": {},
   "outputs": [],
   "source": [
    "import pandas as pd\n",
    "import numpy as np"
   ]
  },
  {
   "cell_type": "code",
   "execution_count": 3,
   "id": "e9911b0d",
   "metadata": {},
   "outputs": [
    {
     "name": "stdout",
     "output_type": "stream",
     "text": [
      "Enter an integer: 13\n",
      "You entered: 13\n"
     ]
    }
   ],
   "source": [
    "#1. Ask the user to enter an integer value greater than 0\n",
    "n = int(input(\"Enter an integer: \"))\n",
    "print(\"You entered: \" + str(n))"
   ]
  },
  {
   "cell_type": "code",
   "execution_count": 25,
   "id": "b2c2d086",
   "metadata": {},
   "outputs": [
    {
     "name": "stdout",
     "output_type": "stream",
     "text": [
      "    Even  Odd  Fibonacci\n",
      "0      0    1          0\n",
      "1      2    1          1\n",
      "2      4    3          1\n",
      "3      6    5          2\n",
      "4      8    7          3\n",
      "5     10    9          5\n",
      "6     12   11          8\n",
      "7     14   13         13\n",
      "8     16   15         21\n",
      "9     18   17         34\n",
      "10    20   19         55\n",
      "11    22   21         89\n",
      "12    24   23        144\n",
      "13    26   25        233\n"
     ]
    }
   ],
   "source": [
    "#2. Use a conditional statement to check the user's entry is greater than 0.\n",
    "if n <= 0:\n",
    "    n = int(input(\"Please enter a valid integer greater than 0: \"))\n",
    "else:\n",
    "    #3. Create a list for each sequence, and store the numbers of sequences. List should have same length, n (user's entry)\n",
    "    # Declare all lists\n",
    "    even = []\n",
    "    odd = [1]\n",
    "    fibo = [0,1]\n",
    "    # for loop for even and fibonacci sequence\n",
    "    for i in range (n+1):\n",
    "        even.append(2*i)\n",
    "        if i >1: \n",
    "            fibo.append(fibo[i-2]+fibo[i-1])\n",
    "    # for loop for odd number\n",
    "    for i in range (n):\n",
    "        odd.append(2*i + 1)\n",
    "    # while loop for fibonacci sequence\n",
    "    #while len(fibo) <= n:\n",
    "    #    next_value = fibo[len(fibo) - 1] + fibo[len(fibo) - 2]\n",
    "    #    fibo.append(next_value)\n",
    "\n",
    "#4. Display your results in a data frame format:\n",
    "df_even = pd.DataFrame({'Even':even})\n",
    "df_odd = pd.DataFrame({'Odd':odd})\n",
    "df_fibo = pd.DataFrame({\"Fibonacci\":fibo})\n",
    "df = pd.DataFrame({'Even':even, \"Odd\":odd, \"Fibonacci\":fibo})\n",
    "print(df)"
   ]
  },
  {
   "cell_type": "code",
   "execution_count": null,
   "id": "710cb5fb",
   "metadata": {},
   "outputs": [],
   "source": []
  }
 ],
 "metadata": {
  "kernelspec": {
   "display_name": "Python 3 (ipykernel)",
   "language": "python",
   "name": "python3"
  },
  "language_info": {
   "codemirror_mode": {
    "name": "ipython",
    "version": 3
   },
   "file_extension": ".py",
   "mimetype": "text/x-python",
   "name": "python",
   "nbconvert_exporter": "python",
   "pygments_lexer": "ipython3",
   "version": "3.9.7"
  }
 },
 "nbformat": 4,
 "nbformat_minor": 5
}
